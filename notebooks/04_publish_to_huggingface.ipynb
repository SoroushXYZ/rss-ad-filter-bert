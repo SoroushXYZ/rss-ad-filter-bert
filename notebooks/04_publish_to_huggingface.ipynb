{
  "cells": [
    {
      "cell_type": "markdown",
      "metadata": {},
      "source": [
        "# Publish Model to Hugging Face Hub\n",
        "\n",
        "This notebook publishes the trained DistilBERT model to Hugging Face Hub for easy access and sharing.\n",
        "\n",
        "## Steps:\n",
        "1. Install huggingface_hub\n",
        "2. Login to Hugging Face\n",
        "3. Create model card and publish\n",
        "4. Test the published model\n"
      ]
    },
    {
      "cell_type": "code",
      "execution_count": 1,
      "metadata": {},
      "outputs": [
        {
          "name": "stdout",
          "output_type": "stream",
          "text": [
            "Requirement already satisfied: huggingface_hub in /Users/soroushxyz/Documents/Dev/Python/Bert-Advertisement-Detection/rss-ad-filter-bert/venv/lib/python3.13/site-packages (0.35.0)\n",
            "Requirement already satisfied: filelock in /Users/soroushxyz/Documents/Dev/Python/Bert-Advertisement-Detection/rss-ad-filter-bert/venv/lib/python3.13/site-packages (from huggingface_hub) (3.19.1)\n",
            "Requirement already satisfied: fsspec>=2023.5.0 in /Users/soroushxyz/Documents/Dev/Python/Bert-Advertisement-Detection/rss-ad-filter-bert/venv/lib/python3.13/site-packages (from huggingface_hub) (2025.9.0)\n",
            "Requirement already satisfied: packaging>=20.9 in /Users/soroushxyz/Documents/Dev/Python/Bert-Advertisement-Detection/rss-ad-filter-bert/venv/lib/python3.13/site-packages (from huggingface_hub) (25.0)\n",
            "Requirement already satisfied: pyyaml>=5.1 in /Users/soroushxyz/Documents/Dev/Python/Bert-Advertisement-Detection/rss-ad-filter-bert/venv/lib/python3.13/site-packages (from huggingface_hub) (6.0.2)\n",
            "Requirement already satisfied: requests in /Users/soroushxyz/Documents/Dev/Python/Bert-Advertisement-Detection/rss-ad-filter-bert/venv/lib/python3.13/site-packages (from huggingface_hub) (2.32.5)\n",
            "Requirement already satisfied: tqdm>=4.42.1 in /Users/soroushxyz/Documents/Dev/Python/Bert-Advertisement-Detection/rss-ad-filter-bert/venv/lib/python3.13/site-packages (from huggingface_hub) (4.67.1)\n",
            "Requirement already satisfied: typing-extensions>=3.7.4.3 in /Users/soroushxyz/Documents/Dev/Python/Bert-Advertisement-Detection/rss-ad-filter-bert/venv/lib/python3.13/site-packages (from huggingface_hub) (4.15.0)\n",
            "Requirement already satisfied: hf-xet<2.0.0,>=1.1.3 in /Users/soroushxyz/Documents/Dev/Python/Bert-Advertisement-Detection/rss-ad-filter-bert/venv/lib/python3.13/site-packages (from huggingface_hub) (1.1.10)\n",
            "Requirement already satisfied: charset_normalizer<4,>=2 in /Users/soroushxyz/Documents/Dev/Python/Bert-Advertisement-Detection/rss-ad-filter-bert/venv/lib/python3.13/site-packages (from requests->huggingface_hub) (3.4.3)\n",
            "Requirement already satisfied: idna<4,>=2.5 in /Users/soroushxyz/Documents/Dev/Python/Bert-Advertisement-Detection/rss-ad-filter-bert/venv/lib/python3.13/site-packages (from requests->huggingface_hub) (3.10)\n",
            "Requirement already satisfied: urllib3<3,>=1.21.1 in /Users/soroushxyz/Documents/Dev/Python/Bert-Advertisement-Detection/rss-ad-filter-bert/venv/lib/python3.13/site-packages (from requests->huggingface_hub) (2.5.0)\n",
            "Requirement already satisfied: certifi>=2017.4.17 in /Users/soroushxyz/Documents/Dev/Python/Bert-Advertisement-Detection/rss-ad-filter-bert/venv/lib/python3.13/site-packages (from requests->huggingface_hub) (2025.8.3)\n",
            "Note: you may need to restart the kernel to use updated packages.\n"
          ]
        }
      ],
      "source": [
        "# Install required packages\n",
        "%pip install huggingface_hub\n"
      ]
    },
    {
      "cell_type": "code",
      "execution_count": 2,
      "metadata": {},
      "outputs": [
        {
          "name": "stdout",
          "output_type": "stream",
          "text": [
            "✅ Libraries imported successfully!\n"
          ]
        }
      ],
      "source": [
        "# Import libraries\n",
        "from huggingface_hub import HfApi, create_repo, upload_folder\n",
        "from transformers import AutoTokenizer, AutoModelForSequenceClassification\n",
        "import os\n",
        "\n",
        "print(\"✅ Libraries imported successfully!\")\n"
      ]
    },
    {
      "cell_type": "code",
      "execution_count": 10,
      "metadata": {},
      "outputs": [
        {
          "data": {
            "application/vnd.jupyter.widget-view+json": {
              "model_id": "4a1d23e0718e47b4832285d1ff9cd67f",
              "version_major": 2,
              "version_minor": 0
            },
            "text/plain": [
              "VBox(children=(HTML(value='<center> <img\\nsrc=https://huggingface.co/front/assets/huggingface_logo-noborder.sv…"
            ]
          },
          "metadata": {},
          "output_type": "display_data"
        },
        {
          "name": "stdout",
          "output_type": "stream",
          "text": [
            "✅ Logged in to Hugging Face!\n"
          ]
        }
      ],
      "source": [
        "# Login to Hugging Face\n",
        "# You'll need to get a token from https://huggingface.co/settings/tokens\n",
        "from huggingface_hub import login\n",
        "\n",
        "# Option 1: Use token directly (replace with your token)\n",
        "# login(\"your_huggingface_token_here\")\n",
        "\n",
        "# Option 2: Use environment variable (recommended)\n",
        "# export HUGGINGFACE_HUB_TOKEN=your_token_here\n",
        "# login()\n",
        "\n",
        "# Option 3: Interactive login\n",
        "login()\n",
        "\n",
        "print(\"✅ Logged in to Hugging Face!\")\n"
      ]
    },
    {
      "cell_type": "code",
      "execution_count": 5,
      "metadata": {},
      "outputs": [
        {
          "name": "stdout",
          "output_type": "stream",
          "text": [
            "Repository ID: SoroushXYZ/distilbert-rss-ad-detection\n",
            "✅ Repository SoroushXYZ/distilbert-rss-ad-detection is ready!\n"
          ]
        }
      ],
      "source": [
        "# Set up model repository\n",
        "model_name = \"distilbert-rss-ad-detection\"  # Change this to your preferred name\n",
        "username = \"SoroushXYZ\"  # Replace with your Hugging Face username\n",
        "\n",
        "repo_id = f\"{username}/{model_name}\"\n",
        "\n",
        "print(f\"Repository ID: {repo_id}\")\n",
        "\n",
        "# Create repository (if it doesn't exist)\n",
        "try:\n",
        "    create_repo(repo_id, exist_ok=True)\n",
        "    print(f\"✅ Repository {repo_id} is ready!\")\n",
        "except Exception as e:\n",
        "    print(f\"Repository setup: {e}\")\n"
      ]
    },
    {
      "cell_type": "code",
      "execution_count": 6,
      "metadata": {},
      "outputs": [
        {
          "name": "stdout",
          "output_type": "stream",
          "text": [
            "✅ Model card created!\n"
          ]
        }
      ],
      "source": [
        "# Create model card content\n",
        "model_card_content = f\"\"\"---\n",
        "license: mit\n",
        "language:\n",
        "- en\n",
        "tags:\n",
        "- text-classification\n",
        "- distilbert\n",
        "- advertisement-detection\n",
        "- rss\n",
        "- news\n",
        "- binary-classification\n",
        "pipeline_tag: text-classification\n",
        "---\n",
        "\n",
        "# DistilBERT RSS Advertisement Detection\n",
        "\n",
        "A DistilBERT-based model for classifying RSS article titles as advertisements or legitimate news content.\n",
        "\n",
        "## Model Description\n",
        "\n",
        "This model is fine-tuned from `distilbert-base-uncased` for binary text classification. It can distinguish between:\n",
        "- **Advertisement**: Promotional content, deals, sales, sponsored content\n",
        "- **News**: Legitimate news articles, editorial content, research findings\n",
        "\n",
        "## Intended Use\n",
        "\n",
        "- **Primary**: Filtering RSS feeds to separate advertisements from news\n",
        "- **Secondary**: Content moderation, spam detection, content categorization\n",
        "- **Research**: Text classification, advertisement detection studies\n",
        "\n",
        "## Performance\n",
        "\n",
        "- **Accuracy**: ~95%\n",
        "- **F1 Score**: ~94%\n",
        "- **Precision**: ~93%\n",
        "- **Recall**: ~94%\n",
        "\n",
        "## Training Data\n",
        "\n",
        "- **Source**: 75+ RSS feeds from major tech news outlets\n",
        "- **Articles**: 1,600+ RSS articles\n",
        "- **Labeled**: 1,000+ manually labeled examples\n",
        "- **Sources**: TechCrunch, WIRED, The Verge, Ars Technica, OpenAI, Google AI, etc.\n",
        "\n",
        "## Usage\n",
        "\n",
        "```python\n",
        "from transformers import pipeline\n",
        "\n",
        "# Load the model\n",
        "classifier = pipeline(\"text-classification\", \n",
        "                     model=\"{repo_id}\")\n",
        "\n",
        "# Classify examples\n",
        "examples = [\n",
        "    \"Apple Announces New iPhone with Advanced AI Features\",\n",
        "    \"50% OFF - Limited Time Offer on Premium Headphones!\",\n",
        "    \"Scientists Discover New Method for Carbon Capture\",\n",
        "    \"Buy Now! Get Free Shipping on All Electronics Today Only!\"\n",
        "]\n",
        "\n",
        "for text in examples:\n",
        "    result = classifier(text)\n",
        "    print(f\"{{text}} -> {{result[0]['label']}} ({{result[0]['score']:.3f}})\")\n",
        "```\n",
        "\n",
        "## Model Architecture\n",
        "\n",
        "- **Base Model**: distilbert-base-uncased\n",
        "- **Task**: Binary text classification\n",
        "- **Input**: Text (max 128 tokens)\n",
        "- **Output**: Class probabilities (news, advertisement)\n",
        "\n",
        "## Training Details\n",
        "\n",
        "- **Epochs**: 3\n",
        "- **Batch Size**: 16\n",
        "- **Learning Rate**: 5e-5\n",
        "- **Optimizer**: AdamW\n",
        "- **Framework**: PyTorch + Transformers\n",
        "\n",
        "## Limitations\n",
        "\n",
        "- Trained primarily on tech news content\n",
        "- May not generalize well to other domains\n",
        "- Performance depends on title quality and clarity\n",
        "- Limited to English language content\n",
        "\n",
        "## Citation\n",
        "\n",
        "If you use this model, please cite:\n",
        "\n",
        "```bibtex\n",
        "@misc{{distilbert-rss-ad-detection,\n",
        "  title={{DistilBERT RSS Advertisement Detection}},\n",
        "  author={{Your Name}},\n",
        "  year={{2024}},\n",
        "  url={{https://huggingface.co/{repo_id}}}\n",
        "}}\n",
        "```\n",
        "\"\"\"\n",
        "\n",
        "# Save model card\n",
        "with open(\"../models/distilbert-ad-detection/README.md\", \"w\") as f:\n",
        "    f.write(model_card_content)\n",
        "\n",
        "print(\"✅ Model card created!\")\n"
      ]
    },
    {
      "cell_type": "code",
      "execution_count": 7,
      "metadata": {},
      "outputs": [
        {
          "name": "stdout",
          "output_type": "stream",
          "text": [
            "Uploading model from: ../models/distilbert-ad-detection\n",
            "To repository: SoroushXYZ/distilbert-rss-ad-detection\n"
          ]
        },
        {
          "data": {
            "application/vnd.jupyter.widget-view+json": {
              "model_id": "0b71119a0e9d4346a9a220948ce9a808",
              "version_major": 2,
              "version_minor": 0
            },
            "text/plain": [
              "Processing Files (0 / 0): |          |  0.00B /  0.00B            "
            ]
          },
          "metadata": {},
          "output_type": "display_data"
        },
        {
          "data": {
            "application/vnd.jupyter.widget-view+json": {
              "model_id": "26d17e6b053e4a289057aa072aea9ce7",
              "version_major": 2,
              "version_minor": 0
            },
            "text/plain": [
              "New Data Upload: |          |  0.00B /  0.00B            "
            ]
          },
          "metadata": {},
          "output_type": "display_data"
        },
        {
          "name": "stdout",
          "output_type": "stream",
          "text": [
            "✅ Model uploaded successfully!\n",
            "🔗 View your model at: https://huggingface.co/SoroushXYZ/distilbert-rss-ad-detection\n"
          ]
        }
      ],
      "source": [
        "# Upload model to Hugging Face Hub\n",
        "model_path = \"../models/distilbert-ad-detection\"\n",
        "\n",
        "print(f\"Uploading model from: {model_path}\")\n",
        "print(f\"To repository: {repo_id}\")\n",
        "\n",
        "# Upload the entire model folder\n",
        "try:\n",
        "    upload_folder(\n",
        "        folder_path=model_path,\n",
        "        repo_id=repo_id,\n",
        "        commit_message=\"Initial model upload - DistilBERT RSS Advertisement Detection\"\n",
        "    )\n",
        "    print(\"✅ Model uploaded successfully!\")\n",
        "    print(f\"🔗 View your model at: https://huggingface.co/{repo_id}\")\n",
        "except Exception as e:\n",
        "    print(f\"Upload failed: {e}\")\n",
        "    print(\"Make sure you have:\")\n",
        "    print(\"1. Trained the model (run notebook 03)\")\n",
        "    print(\"2. Logged in to Hugging Face\")\n",
        "    print(\"3. Created the repository\")\n"
      ]
    },
    {
      "cell_type": "code",
      "execution_count": 9,
      "metadata": {},
      "outputs": [
        {
          "name": "stdout",
          "output_type": "stream",
          "text": [
            "🧪 Testing the published model...\n"
          ]
        },
        {
          "data": {
            "application/vnd.jupyter.widget-view+json": {
              "model_id": "bfb6b2f2b343467eb3846fc7de535c71",
              "version_major": 2,
              "version_minor": 0
            },
            "text/plain": [
              "config.json:   0%|          | 0.00/685 [00:00<?, ?B/s]"
            ]
          },
          "metadata": {},
          "output_type": "display_data"
        },
        {
          "data": {
            "application/vnd.jupyter.widget-view+json": {
              "model_id": "00309307a2f940979af00bb6b5db5a21",
              "version_major": 2,
              "version_minor": 0
            },
            "text/plain": [
              "model.safetensors:   0%|          | 0.00/268M [00:00<?, ?B/s]"
            ]
          },
          "metadata": {},
          "output_type": "display_data"
        },
        {
          "data": {
            "application/vnd.jupyter.widget-view+json": {
              "model_id": "a59c003f47064a5fbf86b1f33a0c1c46",
              "version_major": 2,
              "version_minor": 0
            },
            "text/plain": [
              "tokenizer_config.json: 0.00B [00:00, ?B/s]"
            ]
          },
          "metadata": {},
          "output_type": "display_data"
        },
        {
          "data": {
            "application/vnd.jupyter.widget-view+json": {
              "model_id": "d4060fc411a04ea4a2e1ad9e53d5cfe1",
              "version_major": 2,
              "version_minor": 0
            },
            "text/plain": [
              "vocab.txt: 0.00B [00:00, ?B/s]"
            ]
          },
          "metadata": {},
          "output_type": "display_data"
        },
        {
          "data": {
            "application/vnd.jupyter.widget-view+json": {
              "model_id": "3adee944553b4ae48e6183040a6fde37",
              "version_major": 2,
              "version_minor": 0
            },
            "text/plain": [
              "special_tokens_map.json:   0%|          | 0.00/125 [00:00<?, ?B/s]"
            ]
          },
          "metadata": {},
          "output_type": "display_data"
        },
        {
          "name": "stderr",
          "output_type": "stream",
          "text": [
            "Device set to use mps:0\n"
          ]
        },
        {
          "name": "stdout",
          "output_type": "stream",
          "text": [
            "\n",
            "Test Results:\n",
            "================================================================================\n",
            "Text: Apple Announces New iPhone with Advanced AI Features\n",
            "Prediction: news (confidence: 0.994)\n",
            "--------------------------------------------------------------------------------\n",
            "Text: 50% OFF - Limited Time Offer on Premium Headphones!\n",
            "Prediction: advertisement (confidence: 0.951)\n",
            "--------------------------------------------------------------------------------\n",
            "Text: Scientists Discover New Method for Carbon Capture\n",
            "Prediction: news (confidence: 0.993)\n",
            "--------------------------------------------------------------------------------\n",
            "Text: Buy Now! Get Free Shipping on All Electronics Today Only!\n",
            "Prediction: advertisement (confidence: 0.929)\n",
            "--------------------------------------------------------------------------------\n",
            "✅ Model is working correctly on Hugging Face Hub!\n"
          ]
        }
      ],
      "source": [
        "# Test the published model\n",
        "print(\"🧪 Testing the published model...\")\n",
        "\n",
        "try:\n",
        "    # Import pipeline\n",
        "    from transformers import pipeline\n",
        "    \n",
        "    # Load the model from Hugging Face Hub\n",
        "    classifier = pipeline(\"text-classification\", model=repo_id)\n",
        "    \n",
        "    # Test examples\n",
        "    test_examples = [\n",
        "        \"Apple Announces New iPhone with Advanced AI Features\",\n",
        "        \"50% OFF - Limited Time Offer on Premium Headphones!\",\n",
        "        \"Scientists Discover New Method for Carbon Capture\",\n",
        "        \"Buy Now! Get Free Shipping on All Electronics Today Only!\"\n",
        "    ]\n",
        "    \n",
        "    print(\"\\nTest Results:\")\n",
        "    print(\"=\" * 80)\n",
        "    \n",
        "    for text in test_examples:\n",
        "        result = classifier(text)\n",
        "        label = result[0]['label']\n",
        "        score = result[0]['score']\n",
        "        print(f\"Text: {text}\")\n",
        "        print(f\"Prediction: {label} (confidence: {score:.3f})\")\n",
        "        print(\"-\" * 80)\n",
        "    \n",
        "    print(\"✅ Model is working correctly on Hugging Face Hub!\")\n",
        "    \n",
        "except Exception as e:\n",
        "    print(f\"❌ Error testing model: {e}\")\n",
        "    print(\"The model might still be processing. Try again in a few minutes.\")\n"
      ]
    }
  ],
  "metadata": {
    "kernelspec": {
      "display_name": "venv",
      "language": "python",
      "name": "python3"
    },
    "language_info": {
      "codemirror_mode": {
        "name": "ipython",
        "version": 3
      },
      "file_extension": ".py",
      "mimetype": "text/x-python",
      "name": "python",
      "nbconvert_exporter": "python",
      "pygments_lexer": "ipython3",
      "version": "3.13.5"
    }
  },
  "nbformat": 4,
  "nbformat_minor": 2
}
